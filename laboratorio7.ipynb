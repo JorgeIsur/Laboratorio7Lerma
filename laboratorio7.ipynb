{
 "cells": [
  {
   "cell_type": "markdown",
   "metadata": {},
   "source": [
    "# Fuentes de información\n",
    "### Introducción\n",
    "En este documento se hablará acerca de las señales senoidales, sus propiedades y modelado de manera interactiva haciendo uso de Python y Jupyter Notebooks. Se profundizara en los conceptos de:\n",
    "- Periodo\n",
    "- Frecuencia\n",
    "- Amplitud\n",
    "- Fase\n",
    "- Señales compuestas\n",
    "- Longitud de onda\n",
    "- Ancho de banda\n",
    "- Transformada de Fourier\n",
    "- Espectro de frecuencia\n",
    "### Seno\n",
    "Una señal senoidal es una señal periodica fundamental que es producida por muchos fenómenos naturales en función del tiempo, siendo el tiempo su variable independiente.\n",
    "Las características de las señales sinoidales son:\n",
    "- Frecuencia: Número de oscilaciones por unidad de tiempo (generalmente segundos)\n",
    "- Amplitud: Diferencia entre los máximos y mínimos de la señal.\n",
    "- Fase: Que tan lejos está recorrida el \"inicio\" de la señal sinoidal con respecto a un tiempo de referencia.\n",
    "- Longitud de onda: La longitud de un ciclo de la señal a medida que se propaga en un medio.\n",
    "\n",
    "El modelo matemático de la señal senoidal en función del tiempo es $A \\sin{\\omega t+\\phi}$ donde\n",
    "\n",
    "  - $A$: representa la amplitud\n",
    "  - $\\omega$: representa la frecuencia (angular en este caso)\n",
    "  - $\\phi$: representa la fase\n",
    "\n",
    "En la celda siguiente encontraremos un bloque de código donde podremos interactuar para graficar una señal senoidal.\n",
    "  - Podemos realizar cambios a la amplitud del seno en la gráfica modificando el paramétro 'amplitud = 1' donde podremos cambiar el número '1' por el número que queramos.\n",
    "  - Se puede modificar la frecuencia angular (número de oscilaciones) modificando el paramétro 'frecuencia=1' donde podemos cambiar el número 1 por algún otro que queramos.\n",
    "  - Se puede modificar la fase modificando el paramétro 'fase = 1' donde podemos cambiar el número '1' por algún otro que queramos.\n",
    "Una vez modificado algún valor en los paramétros podemos 'actualizar' la gráfica haciendo 'click' en el simbolo de 'Ejecutar celda' en el lado izquierdo superior del bloque de código."
   ]
  },
  {
   "cell_type": "code",
   "execution_count": null,
   "metadata": {},
   "outputs": [],
   "source": [
    "import numpy as np\n",
    "from math import pi, sin\n",
    "from modulos.seno import modelo\n",
    "from modulos.graficar import ploteo\n",
    "import scipy.signal as signal\n",
    "import matplotlib.pyplot as plt\n",
    "\n",
    "amplitud = 1\n",
    "frecuencia = 1/(2*pi)\n",
    "fase = 0\n",
    "x_max = 2*pi\n",
    "x_min = 0\n",
    "paso = 0.01\n",
    "x = np.arange(x_min,x_max,paso)\n",
    "y = [modelo(amplitud,frecuencia,fase,tiempo)for tiempo in x]\n",
    "ploteo(x,y)"
   ]
  },
  {
   "cell_type": "markdown",
   "metadata": {},
   "source": [
    "### Funciones periódicas\n",
    "\n",
    "Las señales se clasifican como periódicas si las mismas muestran algún tipo de 'repetición' o patrón repetitivo, así como también se clasifican como aperiódicas o no periódicas si no muestran algún tipo de patrón repetitivo. \n",
    "Un ejemplo de esto sería la función seno. La función seno se considera periódica porque sin importar los paramétros a los que se someta, mostrará un patrón repetitivo con respecto a un cierto periodo, mismo que podríamos ver en la gráfica de arriba, si modificamos el periodo (en el paramétro x_max, que por defecto tiene un valor de $2 \\pi$) podremos ver que la función es igual a lo largo de la gráficación. \n",
    "\n",
    "\n",
    "Una manera muy sencilla de entenderlo es con el concepto de periodo, le llamamos periodo a la longitud que contiene exactamente una copia del patrón repetitivo. En la gráfica de abajo el periodo por default sería de $2 \\pi$ puesto que es el intervalo que necesita nuestra función senoidal para mostrar su patrón repetitivo, si nosotros modificaramos este valor por $4 \\pi$ entonces veríamos 2 veces el patrón repetitivo, así consecutivamente con múltiplos de 2 múltiplicados por $\\pi$, lo cual demuestra su perioricidad. \n",
    "- Se puede jugar con el periodo para poder entenderlo en el siguiente bloque de código, donde podrás modificar el paramétro 'periodo' simplemente cambiando el número frente al '*pi' (por defecto '$4 \\pi$')."
   ]
  },
  {
   "cell_type": "code",
   "execution_count": null,
   "metadata": {},
   "outputs": [],
   "source": [
    "periodo = 8*pi\n",
    "\n",
    "x = np.arange(0,periodo,0.01)\n",
    "y = [modelo(1,1/(2*pi),0,tiempo)for tiempo in x]\n",
    "plt.vlines(x=[0,6.3],ymin=-1.0,ymax=1,colors='red',linestyles='dotted',label='Periodo')\n",
    "plt.arrow(x=0,y=0,dx=6.3,dy=0,color='red',shape='full',label='Periodo')\n",
    "plt.text(1,-0.125,\"Periodo\",fontsize='large')\n",
    "ploteo(x,y)"
   ]
  },
  {
   "cell_type": "markdown",
   "metadata": {},
   "source": [
    "### Frecuencia de una función\n",
    "\n",
    "La frecuencia se define como el número de veces que se repite la función por unidad de tiempo. Para verlo de una manera más clara, podemos ocupar la función senoidal como ejemplo para explicar esto de mejor manera.\n",
    "\n",
    "También podemos ver a la frecuencia como el inverso del periodo:\n",
    "- $f = \\frac{1}{T}$ (en Hz)\n",
    "\n",
    "- $\\omega = \\frac{1}{T}$ (en radianes)\n",
    "\n",
    "Podemos decir que la frecuencia de una función senoidal es la medida del número de veces que podemos ver el patrón repetitivo en un cierto periodo o intervalo de tiempo. En nuestro ejemplo de arriba podemos ver que la frecuencia es de 1, porque solamente podemos ver un solo ciclo de la función seno en el periodo, pero en la gráfica de abajo podremos ver que como la frecuencia es de 2, tenemos dos ciclos de la función seno en el mismo periodo de tiempo.\n",
    "\n",
    "En el siguiente bloque de código podremos jugar con el paramétro 'frecuencia' para poder ver de una manera más didáctica que es la frecuencia.\n",
    "- Si nosotros cambiamos el valor del parametro 'frecuencia' que por defecto tiene un valor de 2, podremos ver como vemos más ciclos de la función seno por unidad de tiempo."
   ]
  },
  {
   "cell_type": "code",
   "execution_count": null,
   "metadata": {},
   "outputs": [],
   "source": [
    "frecuencia = 4\n",
    "\n",
    "x = np.arange(0,2*pi,0.01)\n",
    "y = [modelo(1,frecuencia/(2*pi),0,tiempo)for tiempo in x]\n",
    "plt.figure()\n",
    "plt.vlines(x=[0,6.3],ymin=-1.0,ymax=1,colors='red',linestyles='dotted',label='Periodo')\n",
    "plt.arrow(x=0,y=-1,dx=6.3,dy=0,color='red',shape='full',label='Periodo')\n",
    "plt.text(2.7,-1.10,\"Periodo\",fontsize='large')\n",
    "picos = signal.find_peaks(y)\n",
    "for i in range(frecuencia):\n",
    "    plt.text(x=((picos[0][i])/100),y=0.60,s=i+1,fontsize='large')\n",
    "ploteo(x,y)"
   ]
  },
  {
   "cell_type": "markdown",
   "metadata": {},
   "source": [
    "\n",
    "### Amplitud\n",
    "\n",
    "\n",
    "La amplitud puede emplearse para nombrar al alargamiento, la distensión o el ensanchamiento de algo.\n",
    "El concepto de amplitud de onda aparece en el terreno de la física y se vincula al valor más alto que registra una variable, midiéndose desde el punto medio o de equilibrio. En una señal electromagnética o en un movimiento ondulatorio, la amplitud de onda es la distancia que existe entre el valor máximo (el punto más alto de la onda) y el punto de equilibrio.\n",
    "\n",
    "- A continuacion se muestra el codigo para poder graficar la amplitud de onda en Python donde si modificamos la amplitud se puede ver como las graficas se hacen mas grandes o mas chicas"
   ]
  },
  {
   "cell_type": "code",
   "execution_count": null,
   "metadata": {},
   "outputs": [],
   "source": [
    "amplitud = 4   \n",
    "x = np.arange(0,2*pi,0.01)\n",
    "y = [modelo(amplitud,1/(2*pi),0,tiempo)for tiempo in x]\n",
    "picos_amp = signal.find_peaks(y)\n",
    "plt.vlines(x=((picos_amp[0][0])/100),ymin=0,ymax=amplitud,linestyles='dotted',color='red')\n",
    "plt.text(x=1,y=-0.5,s='Amplitud',color='red')\n",
    "ploteo(x,y)\n"
   ]
  },
  {
   "cell_type": "markdown",
   "metadata": {},
   "source": [
    "### Fase\n",
    "\n",
    "\n",
    "Fase es una medida de la diferencia de tiempo entre dos ondas senoidales. Aunque la fase es una diferencia verdadera de tiempo, siempre se mide en terminos de ángulo, en grados o radianes. Eso es una normalización del tiempo que requiere un ciclo de la onda sin considerar su verdadero periodo de tiempo.\n",
    "\n",
    "La diferencia en fase entre dos formas de onda se llama a veces el desplazamiento de fase. Un desplazamiento de fase de 360 grados es un retraso de un ciclo o de un perìodo de la onda, lo que realmente no es ningún desplazamiento. Un desplazamiento de 90 grados es un desplazamiento de 1/4 del periodo de la onda etc. El desplazamiento de fase puede ser considerado positivo o negativo;eso quiere decir que una forma de onda puede ser retrasada relativa a otra o una forma de onda puede ser avanzada relativa a otra. Esos fenómenos se llaman atraso de fase y avance de fase respectivamente\n",
    "\n",
    "La fase esta representada por la letra griega phi  $\\phi$\n",
    "\n",
    "\n",
    "\n",
    "- En la siguiente celda se puden hacer variaciones en la fase de una onda sinoidal"
   ]
  },
  {
   "cell_type": "code",
   "execution_count": null,
   "metadata": {},
   "outputs": [],
   "source": [
    "fase=10 \n",
    "\n",
    "x = np.arange(0, 0.08, 1/50000)\n",
    "y = 1*np.sin(2*np.pi*50*(np.arange(0.08 /(1/50000)))*1/50000 + fase*(np.pi/180))\n",
    "plt.vlines(x=0,ymin=0,ymax=fase*(np.pi/180),linestyles='dotted',color='red')\n",
    "plt.text(x=0,y=-0.1,s='Fase',color='red')\n",
    "ploteo(x,y)\n",
    "\n",
    "\n"
   ]
  },
  {
   "cell_type": "markdown",
   "metadata": {},
   "source": [
    "### Longitud de Onda\n",
    "\n",
    "La longitud de onda es unos de los parámetros que se utiliza para definir físicamente una onda. Este parámetro puede definirse para toda onda periódica, es decir, para el tipo de onda que se repite con exactamente la misma forma cada un intervalo de tiempo determinado.\n",
    "\n",
    "En una onda periódica la longitud de onda es la distancia física entre dos puntos a partir de los cuales la onda se repite.\n",
    "\n",
    "Esta definición puede verse claramente en la siguiente onda sinusoidal. En este caso la longitud de onda es la distancia entre dos crestas, entre dos valles o entre dos de los puntos en los que la onda tiene un valor igual a cero\n",
    "\n",
    "Esta representada por la letra griega lambda $\\lambda$. Su formula esta dada por:\n",
    " - $\\lambda = \\frac{v}{f}$\n",
    "\n",
    "donde:\n",
    " - v: velocidad de transmisión de la onda\n",
    " - f: frecuencia \n",
    "\n",
    "\n"
   ]
  },
  {
   "cell_type": "code",
   "execution_count": null,
   "metadata": {},
   "outputs": [],
   "source": [
    "\n",
    "longitud=1.0      #longitud de onda\n",
    "\n",
    "x=np.linspace(0.0,2,50) \n",
    "y = np.sin(2*np.pi*((x/longitud)))\n",
    "plt.hlines(xmin=0,xmax=longitud,y=0,linestyles='dotted',color='red')\n",
    "plt.text(x=0,y=-0.1,s='Longitud',color='red')\n",
    "\n",
    "ploteo(x,y)\n"
   ]
  },
  {
   "cell_type": "markdown",
   "metadata": {},
   "source": [
    "### Señales compuestas\n",
    "\n",
    "Una señal compuesta se define como aquella señal que se compone de señales más simples. Cualquier señal compuesta es realmente una combinación de señales senoidales con diferentes frecuencias, amplitudes y fases.\n",
    "\n",
    "Si una señal compuesta es periódica entonces su descomposición nos dará como resultado:\n",
    "\n",
    "- Una serie de señales con frecuencias discretas\n",
    "\n",
    "Si una señal compuesta no es periódica entonces su descomposición nos dará como resultado:\n",
    "\n",
    "- Una combinación de ondas senoidales con frecuencias continuas.\n",
    "\n",
    "A continuación podemos ver una señal compuesta por las siguientes señales:\n",
    "\n",
    "- $2sen(2 \\pi t)$\n",
    "- $sen(4 \\pi 4t)$\n",
    "- $3sen(3 \\pi 2t)$"
   ]
  },
  {
   "cell_type": "code",
   "execution_count": null,
   "metadata": {},
   "outputs": [],
   "source": [
    "x = np.arange(0,2*pi,0.01)\n",
    "signal_1 = 2*np.sin(2*np.pi*x)\n",
    "signal_2 = 1*np.sin(4*np.pi*4*x)\n",
    "signal_3 = 3*np.sin(3*np.pi*2*x)\n",
    "composite_signal = signal_1+signal_2+signal_3\n",
    "ploteo(x,composite_signal)"
   ]
  },
  {
   "cell_type": "markdown",
   "metadata": {},
   "source": [
    "### Importancia de las señales compuestas\n",
    "\n",
    "Una señal analógica comunmente está formada por múltiples ondas senoidales, y esto es porque una onda senoidal de frecuencia única no es útil para la transmisión de datos, ya que durante la transmisión de información, la señal viajará por un medio repleto de ruido (aire) y la información se verá comprometida.\n",
    "\n",
    "Es por eso que para combatir el ruido y asegurar una transmisión exitosa de datos, se inventa la \"Modulación\". Principalmente consiste en varíar algún paramétro de la señal con el fin de obtener el mejor desempeño del canal de comunicación, lo cual nos asegura mayor cantidad de información transmitida con apenas interferencia del ruido.\n",
    "\n",
    "La técnica más popular de modulación durante mucho tiempo fue la modulación en amplitud, es decír, AM (Amplitude modulation). Funciona mediante la variación de la amplitud de la señal transmitida en relación a la información envíada, esto es posible o se entiende mejor sabiendo que se usan dos señales.\n",
    "\n",
    "- Señal de banda base: Contiene la información\n",
    "- Señal portadora: Será manipulada para evitar la pérdida de información durante la transmisión\n",
    "\n",
    "A la señal de banda base se le adicionará la señal portadora, formando una señal compuesta resistente al ruido, es como si la portadora fuera nuestro escudo en la transmisión a través del medio.\n",
    "\n",
    "Una vez recibida la señal, se usará alguna técnica de demodulación para extraer la portadora y devolver la señal original al destinatario.\n",
    "\n",
    "A continuación se mostrará el proceso de modulación en amplitud (dual side band con transmisión de portadora) de una señal para su transmisión.\n",
    "\n",
    "Se puede jugar con la modulación modificando las frecuencias de las señales, por ejemplo, en el ejemplo siguiente trabajaremos con señales con componentes de 100,200 y 300 Hz de frecuencia, mismos valores que podemos modificar.\n",
    "\n",
    "- g: Variable para ingresar la señal, podemos modificar sus parametros de acuerdo al modelo senoidal que vimos arriba, a pesar de tener una señal coseno, podríamos tener una señal seno perfectamente.\n",
    "- c: Variable para ingresar la señal de la portadora, aquí podemos modificar la frecuencia de la portadora, que por defecto es de 1000 Hz\n"
   ]
  },
  {
   "cell_type": "code",
   "execution_count": null,
   "metadata": {},
   "outputs": [],
   "source": [
    "T = 0.00005  # Periodo de muestreo (seg)\n",
    "fs = 1/T  # Frecuencia de muestreo (Hz)\n",
    "N = 1000  # Numero de muestras\n",
    "t = np.arange(0.0, N*T, T)  # N muestras para intervalo total\n",
    "# N/2 muestras para intervalo de Nyquist (KHz)\n",
    "f = np.arange(0.0, (N/2)*(fs/N)/1000, (fs/N)/1000)\n",
    "# Offset:\n",
    "A = 1.0\n",
    "# Senal con componentes de 100, 200 y 300 Hz:\n",
    "g = A+np.cos(2*np.pi*100*t)+0.1*np.cos(2*np.pi*200*t) + \\\n",
    "    0.4*np.cos(2*np.pi*300*t)  # %Senal\n",
    "G = np.fft.fft(g)\n",
    "c = np.cos(2*np.pi*1000*t)  # Portadora de 1KHz\n",
    "C = np.fft.fft(c)\n",
    "s = g*c  # Senal AM-DSB-TC\n",
    "S = np.fft.fft(s)\n",
    "fig1,axarr = plt.subplots(3,1)\n",
    "axarr[0].plot(t,g)\n",
    "axarr[0].set_title('Señal compuesta g(t)')\n",
    "axarr[0].set_xlabel('Tiempo[s]')\n",
    "axarr[1].plot(t,c)\n",
    "axarr[1].set_title('Portadora c(t)')\n",
    "axarr[1].set_xlabel('Tiempo[s]')\n",
    "axarr[2].plot(t,s)\n",
    "axarr[2].set_title('Señal AM-DSB-TC')\n",
    "axarr[2].set_xlabel('Tiempo[s]')\n",
    "fig1.subplots_adjust(hspace=1.0)\n",
    "plt.show()\n"
   ]
  },
  {
   "cell_type": "markdown",
   "metadata": {},
   "source": [
    "### Ancho de banda\n",
    "\n",
    "Es la longitud de la extensión de frecuencias, medida en hercios (Hz), en la que se concentra la mayor potencia de la señal. Se puede calcular a partir de una señal temporal mediante el análisis de Fourier. Las frecuencias que se encuentran entre esos límites se denominan también frecuencias efectivas.\n",
    "\n",
    "### Transformada de Fourier\n",
    "\n",
    "Es una transformación matemática empleada para transformar señales entre el dominio del tiempo y el dominio de la frecuencia, que tiene muchas aplicaciones en la física y la ingeniería. El propio término se refiere tanto a la operación de transformación como a la función que produce\n",
    "\n",
    "La transformada de Fourier se utiliza para pasar una señal al dominio de frecuencia para así obtener información que no es evidente en el dominio temporal. Por ejemplo, es más fácil saber sobre qué ancho de banda se concentra la energía de una señal analizándola en el dominio de la frecuencia.\n",
    "\n",
    "### Espectro de la frecuencia \n",
    "\n",
    "El espectro de frecuencias es una representación gráfica de las ondas y su campo de aplicación en función de la frecuencia\n",
    "\n",
    "\n"
   ]
  },
  {
   "cell_type": "code",
   "execution_count": null,
   "metadata": {},
   "outputs": [],
   "source": [
    "T = 0.00005; #Periodo de muestreo (seg)\n",
    "fs = 1/T; #Frecuencia de muestreo (20KHz)\n",
    "N = 1000 #Numero de muestras\n",
    "t = np.arange(0.0, N*T, T) #N muestras para intervalo total\n",
    "f = np.arange(0.0, (N/2)*(fs/N)/1000, (fs/N)/1000) #N/2 muestras para intervalo de Nyquist (KHz)\n",
    "g = np.cos(2*np.pi*100*t)+0.1*np.cos(2*np.pi*200*t)+0.4*np.cos(2*np.pi*300*t) #%Senal\n",
    "c = 2*np.cos(2*np.pi*1000*t) #Portadora de 1KHz\n",
    "s = g*c #Senal AM\n",
    "S = np.fft.fft(s)\n",
    "teta=np.pi*7/16 #Angulo de desfase respecto a la portadora\n",
    "lo = np.cos(2*np.pi*1000*t+teta) #Oscilador local\n",
    "y = s*lo #Senal demodulada sin filtrar\n",
    "Y = np.fft.fft(y)\n",
    "b_lp = signal.firwin(32, 0.1) #Taps, Cutoff = 2*1KHz/20KHz\n",
    "u = signal.lfilter(b_lp, 1, y)\n",
    "U = np.fft.fft(u)\n",
    "fig1, axarr = plt.subplots(2, 1)\n",
    "axarr[0].plot(t, s)\n",
    "axarr[0].set_title('Senal AM s(t)')\n",
    "axarr[0].set_xlabel('Tiempo [s]')\n",
    "axarr[1].stem(f[0:100],abs(S[0:100]))\n",
    "axarr[1].set_title('|S(f)|')\n",
    "axarr[1].set_xlabel('Frecuencia [KHz]')\n",
    "fig1.subplots_adjust(hspace=0.5)\n",
    "\n",
    "fig2, axarr = plt.subplots(2, 1)\n",
    "axarr[0].plot(t, y)\n",
    "axarr[0].set_title('Senal y(t)')\n",
    "axarr[0].set_xlabel('Tiempo [s]')\n",
    "axarr[1].stem(f[0:200],abs(Y[0:200]))\n",
    "axarr[1].set_title('|Y(f)|')\n",
    "axarr[1].set_xlabel('Frecuencia [KHz]')\n",
    "fig2.subplots_adjust(hspace=0.5)\n",
    "\n",
    "fig3, axarr = plt.subplots(2, 1)\n",
    "axarr[0].plot(t, u)\n",
    "axarr[0].set_title('Senal demodulada  u(t)')\n",
    "axarr[0].set_xlabel('Tiempo [s]')\n",
    "axarr[1].stem(f[0:100],abs(U[0:100]))\n",
    "axarr[1].set_title('|U(f)|')\n",
    "axarr[1].set_xlabel('Frecuencia [KHz]')\n",
    "fig3.subplots_adjust(hspace=0.5)\n",
    "\n",
    "plt.show()"
   ]
  },
  {
   "cell_type": "markdown",
   "metadata": {},
   "source": [
    "### Fuentes bibliográficas\n",
    "\n",
    "Jorge Isur Balderas Ramírez\n",
    "- Comer, D. E. (2015). Computer Networks and Internets (6th Revised ed.). Pearson.\n",
    "\n",
    "Aaron Cane Sandoval \n",
    "- Lyons, R. G. (2010). Understanding Digital Signal Processing (3a ed.). EUA: Pearson / Prentice Hall"
   ]
  }
 ],
 "metadata": {
  "kernelspec": {
   "display_name": "Python 3.8.0 64-bit",
   "language": "python",
   "name": "python3"
  },
  "language_info": {
   "codemirror_mode": {
    "name": "ipython",
    "version": 3
   },
   "file_extension": ".py",
   "mimetype": "text/x-python",
   "name": "python",
   "nbconvert_exporter": "python",
   "pygments_lexer": "ipython3",
   "version": "3.8.0"
  },
  "orig_nbformat": 4,
  "vscode": {
   "interpreter": {
    "hash": "0f67c50c9b4d3d04f6772007520a6468923d23d2fbeb417d77276971971ffdf3"
   }
  }
 },
 "nbformat": 4,
 "nbformat_minor": 2
}
